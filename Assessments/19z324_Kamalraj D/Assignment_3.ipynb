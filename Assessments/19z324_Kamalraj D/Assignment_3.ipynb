{
 "cells": [
  {
   "cell_type": "markdown",
   "metadata": {},
   "source": [
    "# 2. image augmentation"
   ]
  },
  {
   "cell_type": "code",
   "execution_count": 2,
   "metadata": {},
   "outputs": [],
   "source": [
    "from tensorflow.keras.preprocessing.image import ImageDataGenerator"
   ]
  },
  {
   "cell_type": "code",
   "execution_count": 3,
   "metadata": {},
   "outputs": [],
   "source": [
    "# using keras ImageDataGenerator to augment the training image data\n",
    "# using the horizontal flip augmentation and rescaling to [0,1]\n",
    "train_datagenerator = ImageDataGenerator(\n",
    "    rescale = 1./255,\n",
    "    horizontal_flip = True\n",
    ")\n",
    "test_datagenerator = ImageDataGenerator(rescale=1./255) # no augmentation is done on test dataset"
   ]
  },
  {
   "cell_type": "code",
   "execution_count": 4,
   "metadata": {},
   "outputs": [
    {
     "name": "stdout",
     "output_type": "stream",
     "text": [
      "Found 4317 images belonging to 5 classes.\n",
      "Found 4317 images belonging to 5 classes.\n"
     ]
    }
   ],
   "source": [
    "# the zip folder is downloaded and unzipped to flowers folder\n",
    "train_data = train_datagenerator.flow_from_directory(\n",
    "    \"flowers\",\n",
    "    target_size = (64,64),\n",
    "    class_mode = \"categorical\",\n",
    "    batch_size = 50\n",
    ")\n",
    "test_data = test_datagenerator.flow_from_directory(\n",
    "    \"flowers\",\n",
    "    target_size = (64,64),\n",
    "    class_mode = \"categorical\",\n",
    "    batch_size = 50\n",
    ")"
   ]
  },
  {
   "cell_type": "markdown",
   "metadata": {},
   "source": [
    "# 3. create model"
   ]
  },
  {
   "cell_type": "code",
   "execution_count": 6,
   "metadata": {},
   "outputs": [],
   "source": [
    "from tensorflow.keras.models import Sequential\n",
    "from tensorflow.keras.layers import Convolution2D, MaxPooling2D, Flatten, Dense\n",
    "\n",
    "model = Sequential() # creating a model using sequential api"
   ]
  },
  {
   "cell_type": "markdown",
   "metadata": {},
   "source": [
    "# 4. Add Layers (Convolution,MaxPooling,Flatten,Dense-(HiddenLayers),Output)"
   ]
  },
  {
   "cell_type": "code",
   "execution_count": 7,
   "metadata": {},
   "outputs": [],
   "source": [
    "model.add(Convolution2D(32, (5,5), activation=\"relu\", input_shape = (64,64,3)))\n",
    "model.add(MaxPooling2D(pool_size=(3,3)))\n",
    "model.add(Flatten())\n",
    "model.add(Dense(400, activation='relu'))\n",
    "model.add(Dense(200, activation='relu'))\n",
    "model.add(Dense(50, activation='relu'))\n",
    "model.add(Dense(5, activation='softmax')) # the flower dataset has 5 classes"
   ]
  },
  {
   "cell_type": "markdown",
   "metadata": {},
   "source": [
    "# 5. compile the model"
   ]
  },
  {
   "cell_type": "code",
   "execution_count": 8,
   "metadata": {},
   "outputs": [],
   "source": [
    "model.compile(optimizer='adam', loss='categorical_crossentropy', metrics=['accuracy'])"
   ]
  },
  {
   "cell_type": "markdown",
   "metadata": {},
   "source": [
    "# 6. fit the model"
   ]
  },
  {
   "cell_type": "code",
   "execution_count": 9,
   "metadata": {},
   "outputs": [
    {
     "name": "stderr",
     "output_type": "stream",
     "text": [
      "C:\\Users\\lenovo\\AppData\\Local\\Temp\\ipykernel_14400\\3670891678.py:1: UserWarning: `Model.fit_generator` is deprecated and will be removed in a future version. Please use `Model.fit`, which supports generators.\n",
      "  model.fit_generator(\n"
     ]
    },
    {
     "name": "stdout",
     "output_type": "stream",
     "text": [
      "Epoch 1/10\n",
      "87/87 [==============================] - 50s 559ms/step - loss: 1.3078 - accuracy: 0.4464 - val_loss: 1.0645 - val_accuracy: 0.5687\n",
      "Epoch 2/10\n",
      "87/87 [==============================] - 41s 468ms/step - loss: 1.0738 - accuracy: 0.5740 - val_loss: 1.0102 - val_accuracy: 0.5682\n",
      "Epoch 3/10\n",
      "87/87 [==============================] - 42s 487ms/step - loss: 0.9774 - accuracy: 0.6155 - val_loss: 0.8381 - val_accuracy: 0.6854\n",
      "Epoch 4/10\n",
      "87/87 [==============================] - 44s 509ms/step - loss: 0.8504 - accuracy: 0.6734 - val_loss: 0.7885 - val_accuracy: 0.6824\n",
      "Epoch 5/10\n",
      "87/87 [==============================] - 25s 288ms/step - loss: 0.7571 - accuracy: 0.7139 - val_loss: 0.6994 - val_accuracy: 0.7401\n",
      "Epoch 6/10\n",
      "87/87 [==============================] - 17s 192ms/step - loss: 0.6670 - accuracy: 0.7498 - val_loss: 0.5491 - val_accuracy: 0.7982\n",
      "Epoch 7/10\n",
      "87/87 [==============================] - 22s 249ms/step - loss: 0.5739 - accuracy: 0.7836 - val_loss: 0.6641 - val_accuracy: 0.7545\n",
      "Epoch 8/10\n",
      "87/87 [==============================] - 25s 287ms/step - loss: 0.4955 - accuracy: 0.8267 - val_loss: 0.4239 - val_accuracy: 0.8362\n",
      "Epoch 9/10\n",
      "87/87 [==============================] - 26s 297ms/step - loss: 0.4247 - accuracy: 0.8420 - val_loss: 0.3115 - val_accuracy: 0.9057\n",
      "Epoch 10/10\n",
      "87/87 [==============================] - 25s 284ms/step - loss: 0.3172 - accuracy: 0.8877 - val_loss: 0.2715 - val_accuracy: 0.9050\n"
     ]
    },
    {
     "data": {
      "text/plain": [
       "<keras.callbacks.History at 0x23339ecf040>"
      ]
     },
     "execution_count": 9,
     "metadata": {},
     "output_type": "execute_result"
    }
   ],
   "source": [
    "model.fit_generator(\n",
    "    train_data,\n",
    "    validation_data = test_data,\n",
    "    epochs=10\n",
    ")"
   ]
  },
  {
   "cell_type": "markdown",
   "metadata": {},
   "source": [
    "# 7. save the model"
   ]
  },
  {
   "cell_type": "code",
   "execution_count": 10,
   "metadata": {},
   "outputs": [],
   "source": [
    "model.save('flowers.h5')"
   ]
  },
  {
   "cell_type": "markdown",
   "metadata": {},
   "source": [
    "# 8. test the model"
   ]
  },
  {
   "cell_type": "code",
   "execution_count": 11,
   "metadata": {},
   "outputs": [],
   "source": [
    "from tensorflow.keras.preprocessing import image\n",
    "import numpy as np"
   ]
  },
  {
   "cell_type": "code",
   "execution_count": 18,
   "metadata": {},
   "outputs": [
    {
     "name": "stdout",
     "output_type": "stream",
     "text": [
      "daisy\n"
     ]
    }
   ],
   "source": [
    "labels = [\"daisy\",\"dandelion\",\"rose\",\"sunflower\",\"tulip\"]\n",
    "img = image.load_img(\"flowers/daisy/102841525_bd6628ae3c.jpg\", target_size=(64,64))\n",
    "img = image.img_to_array(img)\n",
    "img = np.expand_dims(img, axis=0) # converting the input to the expected format\n",
    "print(labels[np.argmax(model.predict(img))])"
   ]
  },
  {
   "cell_type": "code",
   "execution_count": 19,
   "metadata": {},
   "outputs": [
    {
     "name": "stdout",
     "output_type": "stream",
     "text": [
      "rose\n"
     ]
    }
   ],
   "source": [
    "img = image.load_img(\"flowers/rose/11694025703_9a906fedc1_n.jpg\", target_size=(64,64))\n",
    "img = image.img_to_array(img)\n",
    "img = np.expand_dims(img, axis=0)\n",
    "print(labels[np.argmax(model.predict(img))])"
   ]
  },
  {
   "cell_type": "code",
   "execution_count": 20,
   "metadata": {},
   "outputs": [
    {
     "name": "stdout",
     "output_type": "stream",
     "text": [
      "sunflower\n"
     ]
    }
   ],
   "source": [
    "img = image.load_img(\"flowers/sunflower/12471443383_b71e7a7480_m.jpg\", target_size=(64,64))\n",
    "img = image.img_to_array(img)\n",
    "img = np.expand_dims(img, axis=0)\n",
    "print(labels[np.argmax(model.predict(img))])"
   ]
  },
  {
   "cell_type": "code",
   "execution_count": 21,
   "metadata": {},
   "outputs": [
    {
     "name": "stdout",
     "output_type": "stream",
     "text": [
      "tulip\n"
     ]
    }
   ],
   "source": [
    "img = image.load_img(\"flowers/tulip/112428919_f0c5ad7d9d_n.jpg\", target_size=(64,64))\n",
    "img = image.img_to_array(img)\n",
    "img = np.expand_dims(img, axis=0)\n",
    "print(labels[np.argmax(model.predict(img))])"
   ]
  },
  {
   "cell_type": "code",
   "execution_count": 22,
   "metadata": {},
   "outputs": [
    {
     "name": "stdout",
     "output_type": "stream",
     "text": [
      "daisy\n"
     ]
    }
   ],
   "source": [
    "img = image.load_img(\"flowers/dandelion/13916196427_50a611008f.jpg\", target_size=(64,64))\n",
    "img = image.img_to_array(img)\n",
    "img = np.expand_dims(img, axis=0)\n",
    "print(labels[np.argmax(model.predict(img))])"
   ]
  }
 ],
 "metadata": {
  "kernelspec": {
   "display_name": "Python 3.10.2 64-bit",
   "language": "python",
   "name": "python3"
  },
  "language_info": {
   "codemirror_mode": {
    "name": "ipython",
    "version": 3
   },
   "file_extension": ".py",
   "mimetype": "text/x-python",
   "name": "python",
   "nbconvert_exporter": "python",
   "pygments_lexer": "ipython3",
   "version": "3.10.2"
  },
  "orig_nbformat": 4,
  "vscode": {
   "interpreter": {
    "hash": "213524bb45a1aeaf737b1d8c77d7b8db5d425938d9dffc5f4bc6fe6dd3324700"
   }
  }
 },
 "nbformat": 4,
 "nbformat_minor": 2
}
