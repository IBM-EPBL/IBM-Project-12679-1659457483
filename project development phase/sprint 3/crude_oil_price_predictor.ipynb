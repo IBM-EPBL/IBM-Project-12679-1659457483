{
 "cells": [
  {
   "cell_type": "code",
   "execution_count": 1,
   "metadata": {},
   "outputs": [],
   "source": [
    "import pandas as pd\n",
    "import numpy as np\n",
    "from tensorflow.keras.models import Sequential\n",
    "from tensorflow.keras.layers import LSTM, GRU, Dense, Dropout, Input, concatenate\n",
    "import tensorflow as tf\n",
    "from sklearn.preprocessing import MinMaxScaler\n",
    "from sklearn.metrics import mean_squared_error\n",
    "import matplotlib.pyplot as plt"
   ]
  },
  {
   "cell_type": "markdown",
   "metadata": {},
   "source": [
    "# loading the dataset"
   ]
  },
  {
   "cell_type": "code",
   "execution_count": 3,
   "metadata": {},
   "outputs": [
    {
     "data": {
      "text/html": [
       "<div>\n",
       "<style scoped>\n",
       "    .dataframe tbody tr th:only-of-type {\n",
       "        vertical-align: middle;\n",
       "    }\n",
       "\n",
       "    .dataframe tbody tr th {\n",
       "        vertical-align: top;\n",
       "    }\n",
       "\n",
       "    .dataframe thead th {\n",
       "        text-align: right;\n",
       "    }\n",
       "</style>\n",
       "<table border=\"1\" class=\"dataframe\">\n",
       "  <thead>\n",
       "    <tr style=\"text-align: right;\">\n",
       "      <th></th>\n",
       "      <th>Closing Value</th>\n",
       "    </tr>\n",
       "  </thead>\n",
       "  <tbody>\n",
       "    <tr>\n",
       "      <th>0</th>\n",
       "      <td>25.56</td>\n",
       "    </tr>\n",
       "    <tr>\n",
       "      <th>1</th>\n",
       "      <td>26.00</td>\n",
       "    </tr>\n",
       "    <tr>\n",
       "      <th>2</th>\n",
       "      <td>26.53</td>\n",
       "    </tr>\n",
       "    <tr>\n",
       "      <th>3</th>\n",
       "      <td>25.85</td>\n",
       "    </tr>\n",
       "    <tr>\n",
       "      <th>4</th>\n",
       "      <td>25.87</td>\n",
       "    </tr>\n",
       "    <tr>\n",
       "      <th>...</th>\n",
       "      <td>...</td>\n",
       "    </tr>\n",
       "    <tr>\n",
       "      <th>8218</th>\n",
       "      <td>74.19</td>\n",
       "    </tr>\n",
       "    <tr>\n",
       "      <th>8219</th>\n",
       "      <td>NaN</td>\n",
       "    </tr>\n",
       "    <tr>\n",
       "      <th>8220</th>\n",
       "      <td>73.05</td>\n",
       "    </tr>\n",
       "    <tr>\n",
       "      <th>8221</th>\n",
       "      <td>73.78</td>\n",
       "    </tr>\n",
       "    <tr>\n",
       "      <th>8222</th>\n",
       "      <td>73.93</td>\n",
       "    </tr>\n",
       "  </tbody>\n",
       "</table>\n",
       "<p>8223 rows × 1 columns</p>\n",
       "</div>"
      ],
      "text/plain": [
       "      Closing Value\n",
       "0             25.56\n",
       "1             26.00\n",
       "2             26.53\n",
       "3             25.85\n",
       "4             25.87\n",
       "...             ...\n",
       "8218          74.19\n",
       "8219            NaN\n",
       "8220          73.05\n",
       "8221          73.78\n",
       "8222          73.93\n",
       "\n",
       "[8223 rows x 1 columns]"
      ]
     },
     "execution_count": 3,
     "metadata": {},
     "output_type": "execute_result"
    }
   ],
   "source": [
    "df = pd.read_excel(\".\\\\dataset\\\\Crude Oil Prices Daily.xlsx\", usecols=[1])\n",
    "df"
   ]
  },
  {
   "cell_type": "code",
   "execution_count": 4,
   "metadata": {},
   "outputs": [
    {
     "name": "stdout",
     "output_type": "stream",
     "text": [
      "<class 'pandas.core.frame.DataFrame'>\n",
      "RangeIndex: 8223 entries, 0 to 8222\n",
      "Data columns (total 1 columns):\n",
      " #   Column         Non-Null Count  Dtype  \n",
      "---  ------         --------------  -----  \n",
      " 0   Closing Value  8216 non-null   float64\n",
      "dtypes: float64(1)\n",
      "memory usage: 64.4 KB\n"
     ]
    }
   ],
   "source": [
    "df.info()"
   ]
  },
  {
   "cell_type": "code",
   "execution_count": 5,
   "metadata": {},
   "outputs": [
    {
     "data": {
      "image/png": "[encoded data removed]",
      "text/plain": [
       "<Figure size 432x288 with 1 Axes>"
      ]
     },
     "metadata": {
      "needs_background": "light"
     },
     "output_type": "display_data"
    }
   ],
   "source": [
    "plt.plot(df)\n",
    "plt.show()"
   ]
  },
  {
   "cell_type": "markdown",
   "metadata": {},
   "source": [
    "# pre processing"
   ]
  },
  {
   "cell_type": "code",
   "execution_count": 6,
   "metadata": {},
   "outputs": [
    {
     "data": {
      "text/plain": [
       "Closing Value    7\n",
       "dtype: int64"
      ]
     },
     "execution_count": 6,
     "metadata": {},
     "output_type": "execute_result"
    }
   ],
   "source": [
    "df.isna().sum()"
   ]
  },
  {
   "cell_type": "code",
   "execution_count": 7,
   "metadata": {},
   "outputs": [
    {
     "data": {
      "text/plain": [
       "Closing Value    0\n",
       "dtype: int64"
      ]
     },
     "execution_count": 7,
     "metadata": {},
     "output_type": "execute_result"
    }
   ],
   "source": [
    "df[\"Closing Value\"].fillna(df[\"Closing Value\"].mean(), inplace=True) \n",
    "df.isna().sum()"
   ]
  },
  {
   "cell_type": "code",
   "execution_count": 8,
   "metadata": {},
   "outputs": [
    {
     "data": {
      "text/plain": [
       "array([[25.56],\n",
       "       [26.  ],\n",
       "       [26.53],\n",
       "       ...,\n",
       "       [73.05],\n",
       "       [73.78],\n",
       "       [73.93]])"
      ]
     },
     "execution_count": 8,
     "metadata": {},
     "output_type": "execute_result"
    }
   ],
   "source": [
    "x = df.values\n",
    "x"
   ]
  },
  {
   "cell_type": "code",
   "execution_count": 9,
   "metadata": {},
   "outputs": [],
   "source": [
    "# normalising \n",
    "scaler = MinMaxScaler(feature_range=(0,1))\n",
    "x = scaler.fit_transform(x)"
   ]
  },
  {
   "cell_type": "code",
   "execution_count": 10,
   "metadata": {},
   "outputs": [
    {
     "name": "stdout",
     "output_type": "stream",
     "text": [
      "5756 2467\n"
     ]
    }
   ],
   "source": [
    "# splitting into train and test\n",
    "train_size = int(len(x) * 0.7)\n",
    "test_size = len(x) - train_size\n",
    "train, test = x[:train_size,:], x[train_size:,:]\n",
    "print(len(train), len(test))"
   ]
  },
  {
   "cell_type": "code",
   "execution_count": 11,
   "metadata": {},
   "outputs": [
    {
     "data": {
      "text/plain": [
       "'\\ninput [1 2 3 4 5 6]\\nif n_steps = 3\\noutput :\\n[1 2 3] 4\\n[2 3 4] 5\\n[3 4 5] 6\\n'"
      ]
     },
     "execution_count": 11,
     "metadata": {},
     "output_type": "execute_result"
    }
   ],
   "source": [
    "# split a univariate sequence into samples\n",
    "def split_sequence(sequence, n_steps):\n",
    "\tX, y = list(), list()\n",
    "\tfor i in range(len(sequence)):\n",
    "\t\t# find the end of this pattern\n",
    "\t\tend_ix = i + n_steps\n",
    "\t\t# check if we are beyond the sequence\n",
    "\t\tif end_ix > len(sequence)-1:\n",
    "\t\t\tbreak\n",
    "\t\t# gather input and output parts of the pattern\n",
    "\t\tseq_x, seq_y = sequence[i:end_ix], sequence[end_ix]\n",
    "\t\tX.append(seq_x)\n",
    "\t\ty.append(seq_y)\n",
    "\treturn np.array(X), np.array(y)\n",
    "\n",
    "\"\"\"\n",
    "input [1 2 3 4 5 6]\n",
    "if n_steps = 3\n",
    "output :\n",
    "[1 2 3] 4\n",
    "[2 3 4] 5\n",
    "[3 4 5] 6\n",
    "\"\"\""
   ]
  },
  {
   "cell_type": "code",
   "execution_count": 12,
   "metadata": {},
   "outputs": [],
   "source": [
    "# convert an array of values into a dataset matrix\n",
    "def create_dataset(dataset, look_back=1):\n",
    "\tdataX, dataY = [], []\n",
    "\tfor i in range(len(dataset)-look_back-1):\n",
    "\t\ta = dataset[i:(i+look_back), 0]\n",
    "\t\tdataX.append(a)\n",
    "\t\tdataY.append(dataset[i + look_back, 0])\n",
    "\treturn np.array(dataX), np.array(dataY)"
   ]
  },
  {
   "cell_type": "code",
   "execution_count": 13,
   "metadata": {},
   "outputs": [],
   "source": [
    "window_size = 3\n",
    "trainX, trainY = create_dataset(train, window_size)\n",
    "testX, testY = create_dataset(test, window_size)"
   ]
  },
  {
   "cell_type": "code",
   "execution_count": 14,
   "metadata": {},
   "outputs": [],
   "source": [
    "# reshaping to lstm input size\n",
    "trainX = np.reshape(trainX, (-1,1,trainX.shape[1]))\n",
    "testX = np.reshape(testX, (-1,1,testX.shape[1]))"
   ]
  },
  {
   "cell_type": "markdown",
   "metadata": {},
   "source": [
    "# lstm model + gru model"
   ]
  },
  {
   "cell_type": "markdown",
   "metadata": {},
   "source": [
    "lstm input format is [batchsize, timestamp, features]"
   ]
  },
  {
   "cell_type": "code",
   "execution_count": 15,
   "metadata": {},
   "outputs": [],
   "source": [
    "def create_model(input_shape):\n",
    "    inp = Input(shape=input_shape)\n",
    "    lstm = LSTM(10)\n",
    "    gru = GRU(10)\n",
    "    l1 = lstm(inp)\n",
    "    l2 = gru(inp)\n",
    "    h1 = concatenate([l1, l2])\n",
    "    h2 = Dense(50, activation=\"relu\") (h1)\n",
    "    h3 = Dense(10, activation='relu') (h2)\n",
    "    out = Dense(1, activation=\"sigmoid\") (h3) \n",
    "    return tf.keras.Model(inputs=inp, outputs=out)"
   ]
  },
  {
   "cell_type": "code",
   "execution_count": 16,
   "metadata": {},
   "outputs": [
    {
     "name": "stdout",
     "output_type": "stream",
     "text": [
      "Model: \"model\"\n",
      "__________________________________________________________________________________________________\n",
      " Layer (type)                   Output Shape         Param #     Connected to                     \n",
      "==================================================================================================\n",
      " input_1 (InputLayer)           [(None, 1, 3)]       0           []                               \n",
      "                                                                                                  \n",
      " lstm (LSTM)                    (None, 10)           560         ['input_1[0][0]']                \n",
      "                                                                                                  \n",
      " gru (GRU)                      (None, 10)           450         ['input_1[0][0]']                \n",
      "                                                                                                  \n",
      " concatenate (Concatenate)      (None, 20)           0           ['lstm[0][0]',                   \n",
      "                                                                  'gru[0][0]']                    \n",
      "                                                                                                  \n",
      " dense (Dense)                  (None, 50)           1050        ['concatenate[0][0]']            \n",
      "                                                                                                  \n",
      " dense_1 (Dense)                (None, 10)           510         ['dense[0][0]']                  \n",
      "                                                                                                  \n",
      " dense_2 (Dense)                (None, 1)            11          ['dense_1[0][0]']                \n",
      "                                                                                                  \n",
      "==================================================================================================\n",
      "Total params: 2,581\n",
      "Trainable params: 2,581\n",
      "Non-trainable params: 0\n",
      "__________________________________________________________________________________________________\n"
     ]
    }
   ],
   "source": [
    "model = create_model((1,window_size))\n",
    "model.summary()"
   ]
  },
  {
   "cell_type": "code",
   "execution_count": 17,
   "metadata": {},
   "outputs": [
    {
     "name": "stdout",
     "output_type": "stream",
     "text": [
      "You must install pydot (`pip install pydot`) and install graphviz (see instructions at https://graphviz.gitlab.io/download/) for plot_model/model_to_dot to work.\n"
     ]
    }
   ],
   "source": [
    "tf.keras.utils.plot_model(model)"
   ]
  },
  {
   "cell_type": "code",
   "execution_count": 18,
   "metadata": {},
   "outputs": [],
   "source": [
    "model.compile(loss=tf.losses.MSE, optimizer=\"adam\", metrics=[\"accuracy\"])"
   ]
  },
  {
   "cell_type": "code",
   "execution_count": 19,
   "metadata": {},
   "outputs": [
    {
     "name": "stdout",
     "output_type": "stream",
     "text": [
      "Epoch 1/20\n",
      "180/180 [==============================] - 8s 6ms/step - loss: 0.0386 - accuracy: 1.7385e-04\n",
      "Epoch 2/20\n",
      "180/180 [==============================] - 2s 9ms/step - loss: 0.0012 - accuracy: 3.4771e-04\n",
      "Epoch 3/20\n",
      "180/180 [==============================] - 1s 7ms/step - loss: 3.3988e-04 - accuracy: 3.4771e-04\n",
      "Epoch 4/20\n",
      "180/180 [==============================] - 2s 9ms/step - loss: 2.0273e-04 - accuracy: 3.4771e-04\n",
      "Epoch 5/20\n",
      "180/180 [==============================] - 2s 8ms/step - loss: 1.6921e-04 - accuracy: 3.4771e-04\n",
      "Epoch 6/20\n",
      "180/180 [==============================] - 2s 8ms/step - loss: 1.4989e-04 - accuracy: 3.4771e-04\n",
      "Epoch 7/20\n",
      "180/180 [==============================] - 2s 8ms/step - loss: 1.3974e-04 - accuracy: 3.4771e-04\n",
      "Epoch 8/20\n",
      "180/180 [==============================] - 2s 8ms/step - loss: 1.2952e-04 - accuracy: 3.4771e-04\n",
      "Epoch 9/20\n",
      "180/180 [==============================] - 1s 7ms/step - loss: 1.2486e-04 - accuracy: 3.4771e-04\n",
      "Epoch 10/20\n",
      "180/180 [==============================] - 1s 4ms/step - loss: 1.1913e-04 - accuracy: 3.4771e-04\n",
      "Epoch 11/20\n",
      "180/180 [==============================] - 1s 7ms/step - loss: 1.1738e-04 - accuracy: 3.4771e-04\n",
      "Epoch 12/20\n",
      "180/180 [==============================] - 2s 8ms/step - loss: 1.0161e-04 - accuracy: 3.4771e-04\n",
      "Epoch 13/20\n",
      "180/180 [==============================] - 2s 9ms/step - loss: 9.8027e-05 - accuracy: 3.4771e-04\n",
      "Epoch 14/20\n",
      "180/180 [==============================] - 2s 9ms/step - loss: 9.5646e-05 - accuracy: 3.4771e-04\n",
      "Epoch 15/20\n",
      "180/180 [==============================] - 1s 5ms/step - loss: 9.0950e-05 - accuracy: 3.4771e-04\n",
      "Epoch 16/20\n",
      "180/180 [==============================] - 1s 4ms/step - loss: 8.9639e-05 - accuracy: 3.4771e-04\n",
      "Epoch 17/20\n",
      "180/180 [==============================] - 1s 4ms/step - loss: 8.7670e-05 - accuracy: 3.4771e-04\n",
      "Epoch 18/20\n",
      "180/180 [==============================] - 1s 4ms/step - loss: 8.1322e-05 - accuracy: 3.4771e-04\n",
      "Epoch 19/20\n",
      "180/180 [==============================] - 1s 4ms/step - loss: 7.9615e-05 - accuracy: 3.4771e-04\n",
      "Epoch 20/20\n",
      "180/180 [==============================] - 1s 4ms/step - loss: 8.2638e-05 - accuracy: 3.4771e-04\n"
     ]
    },
    {
     "data": {
      "text/plain": [
       "<keras.callbacks.History at 0x220ad54e470>"
      ]
     },
     "execution_count": 19,
     "metadata": {},
     "output_type": "execute_result"
    }
   ],
   "source": [
    "model.fit(trainX,trainY, epochs=20)"
   ]
  },
  {
   "cell_type": "code",
   "execution_count": 20,
   "metadata": {},
   "outputs": [],
   "source": [
    "model.save(\"crude_oil_model.h5\")"
   ]
  },
  {
   "cell_type": "code",
   "execution_count": 21,
   "metadata": {},
   "outputs": [
    {
     "name": "stdout",
     "output_type": "stream",
     "text": [
      "Train Score: 1.14 RMSE\n",
      "Test Score: 2.17 RMSE\n"
     ]
    }
   ],
   "source": [
    "# make predictions\n",
    "trainPredict = model.predict(trainX)\n",
    "testPredict = model.predict(testX)\n",
    "# invert predictions\n",
    "trainPredict = scaler.inverse_transform(trainPredict)\n",
    "trainY = scaler.inverse_transform([trainY])\n",
    "testPredict = scaler.inverse_transform(testPredict)\n",
    "testY = scaler.inverse_transform([testY])\n",
    "# calculate root mean squared error\n",
    "trainScore = np.sqrt(mean_squared_error(trainY[0], trainPredict[:,0]))\n",
    "print('Train Score: %.2f RMSE' % (trainScore))\n",
    "testScore = np.sqrt(mean_squared_error(testY[0], testPredict[:,0]))\n",
    "print('Test Score: %.2f RMSE' % (testScore))"
   ]
  },
  {
   "cell_type": "code",
   "execution_count": 22,
   "metadata": {},
   "outputs": [
    {
     "data": {
      "image/png": "[encoded data removed]",
      "text/plain": [
       "<Figure size 432x288 with 1 Axes>"
      ]
     },
     "metadata": {
      "needs_background": "light"
     },
     "output_type": "display_data"
    }
   ],
   "source": [
    "# shift train predictions for plotting\n",
    "trainPredictPlot = np.empty_like(x)\n",
    "trainPredictPlot[:, :] = np.nan\n",
    "trainPredictPlot[window_size:len(trainPredict)+window_size, :] = trainPredict\n",
    "# shift test predictions for plotting\n",
    "testPredictPlot = np.empty_like(x)\n",
    "testPredictPlot[:, :] = np.nan\n",
    "testPredictPlot[len(trainPredict)+(window_size*2)+1:len(x)-1, :] = testPredict\n",
    "# plot baseline and predictions\n",
    "plt.plot(scaler.inverse_transform(x))\n",
    "plt.plot(trainPredictPlot)\n",
    "plt.plot(testPredictPlot)\n",
    "plt.show()"
   ]
  },
  {
   "cell_type": "markdown",
   "metadata": {},
   "source": [
    "# vanialla lstm"
   ]
  },
  {
   "cell_type": "code",
   "execution_count": 23,
   "metadata": {},
   "outputs": [],
   "source": [
    "mdl = Sequential()\n",
    "mdl.add(LSTM(4, input_shape=(1,window_size)))\n",
    "mdl.add(Dense(1))\n",
    "mdl.compile(optimizer='adam', loss=\"mean_squared_error\", metrics=[\"accuracy\"])\n"
   ]
  },
  {
   "cell_type": "code",
   "execution_count": 24,
   "metadata": {},
   "outputs": [],
   "source": [
    "window_size = 3\n",
    "trainX, trainY = create_dataset(train, window_size)\n",
    "testX, testY = create_dataset(test, window_size)"
   ]
  },
  {
   "cell_type": "code",
   "execution_count": 25,
   "metadata": {},
   "outputs": [],
   "source": [
    "# reshaping to lstm input size\n",
    "trainX = np.reshape(trainX, (-1,1,trainX.shape[1]))\n",
    "testX = np.reshape(testX, (-1,1,testX.shape[1]))"
   ]
  },
  {
   "cell_type": "code",
   "execution_count": 26,
   "metadata": {},
   "outputs": [
    {
     "name": "stdout",
     "output_type": "stream",
     "text": [
      "Epoch 1/10\n",
      "180/180 - 5s - loss: 0.0198 - accuracy: 1.7385e-04 - 5s/epoch - 30ms/step\n",
      "Epoch 2/10\n",
      "180/180 - 1s - loss: 0.0041 - accuracy: 3.4771e-04 - 613ms/epoch - 3ms/step\n",
      "Epoch 3/10\n",
      "180/180 - 1s - loss: 2.3363e-04 - accuracy: 3.4771e-04 - 684ms/epoch - 4ms/step\n",
      "Epoch 4/10\n",
      "180/180 - 1s - loss: 1.1027e-04 - accuracy: 3.4771e-04 - 721ms/epoch - 4ms/step\n",
      "Epoch 5/10\n",
      "180/180 - 1s - loss: 1.0943e-04 - accuracy: 3.4771e-04 - 872ms/epoch - 5ms/step\n",
      "Epoch 6/10\n",
      "180/180 - 1s - loss: 1.0864e-04 - accuracy: 3.4771e-04 - 867ms/epoch - 5ms/step\n",
      "Epoch 7/10\n",
      "180/180 - 1s - loss: 1.0773e-04 - accuracy: 3.4771e-04 - 782ms/epoch - 4ms/step\n",
      "Epoch 8/10\n",
      "180/180 - 1s - loss: 1.0683e-04 - accuracy: 3.4771e-04 - 692ms/epoch - 4ms/step\n",
      "Epoch 9/10\n",
      "180/180 - 1s - loss: 1.0638e-04 - accuracy: 3.4771e-04 - 643ms/epoch - 4ms/step\n",
      "Epoch 10/10\n",
      "180/180 - 1s - loss: 1.0546e-04 - accuracy: 3.4771e-04 - 709ms/epoch - 4ms/step\n"
     ]
    },
    {
     "data": {
      "text/plain": [
       "<keras.callbacks.History at 0x220baee09d0>"
      ]
     },
     "execution_count": 26,
     "metadata": {},
     "output_type": "execute_result"
    }
   ],
   "source": [
    "mdl.fit(trainX,trainY, epochs=10, verbose=2)"
   ]
  },
  {
   "cell_type": "code",
   "execution_count": 27,
   "metadata": {},
   "outputs": [
    {
     "name": "stdout",
     "output_type": "stream",
     "text": [
      "Train Score: 1.38 RMSE\n",
      "Test Score: 2.41 RMSE\n"
     ]
    }
   ],
   "source": [
    "# make predictions\n",
    "trainPredict = mdl.predict(trainX)\n",
    "testPredict = mdl.predict(testX)\n",
    "# invert predictions\n",
    "trainPredict = scaler.inverse_transform(trainPredict)\n",
    "trainY = scaler.inverse_transform([trainY])\n",
    "testPredict = scaler.inverse_transform(testPredict)\n",
    "testY = scaler.inverse_transform([testY])\n",
    "# calculate root mean squared error\n",
    "trainScore = np.sqrt(mean_squared_error(trainY[0], trainPredict[:,0]))\n",
    "print('Train Score: %.2f RMSE' % (trainScore))\n",
    "testScore = np.sqrt(mean_squared_error(testY[0], testPredict[:,0]))\n",
    "print('Test Score: %.2f RMSE' % (testScore))"
   ]
  },
  {
   "cell_type": "code",
   "execution_count": 28,
   "metadata": {},
   "outputs": [
    {
     "data": {
      "image/png": "[encoded data removed]",
      "text/plain": [
       "<Figure size 432x288 with 1 Axes>"
      ]
     },
     "metadata": {
      "needs_background": "light"
     },
     "output_type": "display_data"
    }
   ],
   "source": [
    "# shift train predictions for plotting\n",
    "trainPredictPlot = np.empty_like(x)\n",
    "trainPredictPlot[:, :] = np.nan\n",
    "trainPredictPlot[window_size:len(trainPredict)+window_size, :] = trainPredict\n",
    "# shift test predictions for plotting\n",
    "testPredictPlot = np.empty_like(x)\n",
    "testPredictPlot[:, :] = np.nan\n",
    "testPredictPlot[len(trainPredict)+(window_size*2)+1:len(x)-1, :] = testPredict\n",
    "# plot baseline and predictions\n",
    "plt.plot(scaler.inverse_transform(x))\n",
    "plt.plot(trainPredictPlot)\n",
    "plt.plot(testPredictPlot)\n",
    "plt.show()"
   ]
  }
 ],
 "metadata": {
  "kernelspec": {
   "display_name": "Python 3.10.2 64-bit",
   "language": "python",
   "name": "python3"
  },
  "language_info": {
   "codemirror_mode": {
    "name": "ipython",
    "version": 3
   },
   "file_extension": ".py",
   "mimetype": "text/x-python",
   "name": "python",
   "nbconvert_exporter": "python",
   "pygments_lexer": "ipython3",
   "version": "3.10.2"
  },
  "orig_nbformat": 4,
  "vscode": {
   "interpreter": {
    "hash": "213524bb45a1aeaf737b1d8c77d7b8db5d425938d9dffc5f4bc6fe6dd3324700"
   }
  }
 },
 "nbformat": 4,
 "nbformat_minor": 2
}
